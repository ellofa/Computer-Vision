{
  "nbformat": 4,
  "nbformat_minor": 0,
  "metadata": {
    "colab": {
      "provenance": [],
      "gpuType": "V100",
      "machine_shape": "hm"
    },
    "kernelspec": {
      "name": "python3",
      "display_name": "Python 3"
    },
    "language_info": {
      "name": "python"
    },
    "accelerator": "GPU"
  },
  "cells": [
    {
      "cell_type": "code",
      "execution_count": null,
      "metadata": {
        "id": "-ASQa82BbYDq"
      },
      "outputs": [],
      "source": [
        "from google.colab import drive\n",
        "drive.mount('/content/drive', force_remount=True)"
      ]
    },
    {
      "cell_type": "code",
      "source": [
        "!pip install wandb -qU"
      ],
      "metadata": {
        "id": "MxQcWh-faLd6"
      },
      "execution_count": null,
      "outputs": []
    },
    {
      "cell_type": "code",
      "source": [
        "import wandb"
      ],
      "metadata": {
        "id": "00udu92iaPp9"
      },
      "execution_count": null,
      "outputs": []
    },
    {
      "cell_type": "code",
      "source": [
        "wandb.login()"
      ],
      "metadata": {
        "id": "auuYCSQLaSu2"
      },
      "execution_count": null,
      "outputs": []
    },
    {
      "cell_type": "code",
      "source": [
        "%run \"/content/drive/My Drive/recvis23_a3/main.py\" --data=/content/drive/MyDrive/recvis23_a3/data_sketches --model=\"GoogleNet\""
      ],
      "metadata": {
        "id": "hIRppe2Xb7_T"
      },
      "execution_count": null,
      "outputs": []
    },
    {
      "cell_type": "code",
      "source": [
        "%run \"/content/drive/My Drive/recvis23_a3/evaluate.py\" --model_name=\"GoogleNet\" --model=\"/content/drive/My Drive/recvis23_a3/models/model_13.pth\""
      ],
      "metadata": {
        "id": "L6ShZMa_xuov"
      },
      "execution_count": null,
      "outputs": []
    }
  ]
}